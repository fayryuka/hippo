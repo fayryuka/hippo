{
 "cells": [
  {
   "cell_type": "code",
   "execution_count": 1,
   "metadata": {},
   "outputs": [
    {
     "data": {
      "text/plain": [
       "<Figure size 640x480 with 1 Axes>"
      ]
     },
     "metadata": {},
     "output_type": "display_data"
    }
   ],
   "source": [
    "#!/usr/bin/env python3\n",
    "# -*- coding: utf-8 -*-\n",
    "\"\"\"\n",
    "Created on Mon Apr 29 21:49:29 2019\n",
    "\n",
    "@author: fayland\n",
    "\"\"\"\n",
    "\n",
    "import numpy as np\n",
    "import matplotlib.pyplot as plt\n",
    "import pandas as pd\n",
    " \n",
    "# Importing the dataset\n",
    "\n",
    "dataset = pd.read_csv('Los_Angeles.csv')\n",
    "X0 = dataset.iloc[:, :-1].values\n",
    "y0 = dataset.iloc[:, 1].values\n",
    " \n",
    "dataset = pd.read_csv('San_Diego.csv')\n",
    "X1 = dataset.iloc[:, :-1].values\n",
    "y1 = dataset.iloc[:, 1].values\n",
    "\n",
    "dataset = pd.read_csv('San_Francisco.csv')\n",
    "X2 = dataset.iloc[:, :-1].values\n",
    "y2 = dataset.iloc[:, 1].values\n",
    "\n",
    "dataset = pd.read_csv('Riverside.csv')\n",
    "X3 = dataset.iloc[:, :-1].values\n",
    "y3 = dataset.iloc[:, 1].values\n",
    "\n",
    "dataset = pd.read_csv('sacramento.csv')\n",
    "X4 = dataset.iloc[:, :-1].values\n",
    "y4 = dataset.iloc[:, 1].values\n",
    "\n",
    "dataset = pd.read_csv('san_jose.csv')\n",
    "X5 = dataset.iloc[:, :-1].values\n",
    "y5 = dataset.iloc[:, 1].values\n",
    "\n",
    "dataset = pd.read_csv('4Cities.csv')\n",
    "X = dataset.iloc[:, :-1].values\n",
    "y = dataset.iloc[:, 1].values\n",
    "\n",
    "dataset = pd.read_csv('SacramentoAndRiverside.csv')\n",
    "X6 = dataset.iloc[:, :-1].values\n",
    "y6 = dataset.iloc[:, 1].values\n",
    "\n",
    "from sklearn.linear_model import LinearRegression\n",
    "regressor = LinearRegression()\n",
    "regressor.fit(X, y)\n",
    "\n",
    "from sklearn.linear_model import LinearRegression\n",
    "regressor1 = LinearRegression()\n",
    "regressor1.fit(X6, y6)\n",
    "\n",
    "plt.plot(X, regressor.predict(X), color = 'salmon')\n",
    "plt.plot(X6, regressor1.predict(X6), color = 'crimson')\n",
    "plt.scatter(X0, y0, color = 'blue')\n",
    "plt.scatter(X1, y1, color = 'pink')\n",
    "plt.scatter(X2, y2, color = 'green')\n",
    "plt.scatter(X3, y3, color = 'orange')\n",
    "plt.scatter(X4, y4, color = 'gray')\n",
    "plt.scatter(X5, y5, color = 'purple')\n",
    "plt.gca().legend(('trend2','trend1','San Diego','San Francisco','Los Angeles','Riverside','Sacramento','San Jose'))\n",
    "plt.title('Rent per Sqft vs Sale Price')\n",
    "plt.xlabel('Sale Price')\n",
    "plt.ylabel('Rent per Sqft')\n",
    "plt.show()"
   ]
  },
  {
   "cell_type": "code",
   "execution_count": null,
   "metadata": {},
   "outputs": [],
   "source": []
  }
 ],
 "metadata": {
  "kernelspec": {
   "display_name": "Python 3",
   "language": "python",
   "name": "python3"
  },
  "language_info": {
   "codemirror_mode": {
    "name": "ipython",
    "version": 3
   },
   "file_extension": ".py",
   "mimetype": "text/x-python",
   "name": "python",
   "nbconvert_exporter": "python",
   "pygments_lexer": "ipython3",
   "version": "3.7.3"
  }
 },
 "nbformat": 4,
 "nbformat_minor": 2
}
